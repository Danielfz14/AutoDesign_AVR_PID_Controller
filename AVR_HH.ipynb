{
 "cells": [
  {
   "cell_type": "code",
   "execution_count": null,
   "id": "416c4774",
   "metadata": {},
   "outputs": [],
   "source": [
    "import Aplicaciones as Pc\n",
    "import metaheuristic as mh\n",
    "import matplotlib.pyplot as plt\n",
    "import hyperheuristic as hh\n",
    "import tools as tl"
   ]
  },
  {
   "cell_type": "code",
   "execution_count": null,
   "id": "37bd48f6",
   "metadata": {},
   "outputs": [],
   "source": [
    "fun = Pc.P18(3)\n",
    "prob = fun. get_formatted_problem ()\n",
    "parameters = {\n",
    "    'cardinality': 3,     # Max. number of search operators\n",
    "    'num_iterations': 50, # Max. number of iterations\n",
    "    'num_agents': 30,     # Number of agents (populationsize)\n",
    "    'num_replicas': 20,   # Number of replicas per metaheuristic\n",
    "    'num_steps': 20,      # Max. number of steps (hyper -heuristics)\n",
    "    'stagnation_percentage': 0.4, # Allowed stagnation percentage\n",
    "    'max_temperature': 200, # Initial temperature ( Simulated Annealing)\n",
    "    'cooling_rate': 0.05    # Cooling rate (Simulated Annealing)\n",
    "}\n",
    "hyp = hh. Hyperheuristic ('default.txt', problem=prob,file_label ='AVRHH_exp1',parameters=parameters)\n",
    "sol , perf , e_sol = hyp.run ()"
   ]
  }
 ],
 "metadata": {
  "kernelspec": {
   "display_name": "Python 3 (ipykernel)",
   "language": "python",
   "name": "python3"
  },
  "language_info": {
   "codemirror_mode": {
    "name": "ipython",
    "version": 3
   },
   "file_extension": ".py",
   "mimetype": "text/x-python",
   "name": "python",
   "nbconvert_exporter": "python",
   "pygments_lexer": "ipython3",
   "version": "3.9.7"
  }
 },
 "nbformat": 4,
 "nbformat_minor": 5
}
